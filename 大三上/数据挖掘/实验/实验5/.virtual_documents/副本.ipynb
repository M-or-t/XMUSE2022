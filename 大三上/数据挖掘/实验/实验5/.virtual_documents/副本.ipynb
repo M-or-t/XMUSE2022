








import pandas as pd
import numpy as np


weather = pd.read_csv('data\weather.csv')  #读取数据文件

X = weather.drop(columns=['play'])
y = weather['play']

X


def nb_fit(X, y):       #模型训练，输入的X是训练样本数据，y是训练样本的类标签
    classes = y.unique()                  # 获取训练样本的所有类别 classes
    class_count = y.value_counts()        # 统计每个类别样本的数量 class_count
    class_prior = class_count / len(y)    # 计算类先验概率 P(y) class_prior
    prior = {}                            # 初始化空类条件概率，Prior 中存储了每个特征在给定类别下的条件概率，以及它们的对应关系，即 (feature,value,class)。

    #计算类条件概率 P(x|y)

    
    
    return classes, class_prior, prior


classes,class_prior,prior=nb_fit(X,y)

prior


def predict(X_test):
    result=dict()                       #预测结果
    for c in classes:
        p_y=class_prior[c]              #获得某类的先验概率
        p_x_y=1                         #类条件概率初始化
        for i in X_test.items():
            p_x_y*=prior[tuple(list(i)+[c])]       #计算类条件概率P(x|y)
        result[c]=p_y*p_x_y
    return result


X_test1={'outlook':'sunny', 'temperature':'cool','humidity':'high','windy':True}
print(predict(X_test1))     #预测结果



X_test2={'outlook':'overcast', 'temperature':'cool','humidity':'high','windy':True}
print(predict(X_test2))     #预测结果






def new_predict(X_test,X):
    result = dict()  # 预测结果
 


    return result


print(new_predict(X_test2,X))     #预测结果




