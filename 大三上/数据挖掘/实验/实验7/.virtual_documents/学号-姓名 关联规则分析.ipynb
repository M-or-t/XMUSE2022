











def loadDataSet():
    return [[1,2,5],[2,4],[2,3],[1,2,4],[1,3],[2,3],[1,3],[1,2,3,5],[1,2,3]]

dataset=loadDataSet()
dataset











#构建长度为1的候选项集C1
def generate_candidates_length_1(data):
    candidates = []

    #补充自己的代码
    
    return candidates


# 生成长度为1的候选集
candidates = generate_candidates_length_1(dataset)
candidates.sort()

# 打印候选集
print("长度为1的候选集：")
for candidate in candidates:
    print(candidate)



#使用阈值minsup对候选项集进行筛选
def generate_frequent_itemsets(candidates, data, min_support):
    frequent_itemsets = []
    support_data = {}  # 用于存储每个频繁项集的支持度计数

    # 统计每个候选项集的计数
    #补充自己的代码

    # 计算支持度并筛选出频繁项集
    #补充自己的代码

    return frequent_itemsets, support_data #输出频繁项集和支持度计数




#从长度为k的频繁集生成长度为k+1的候选集
def generate_candidate_itemsets(frequent_itemsets):
    candidate_itemsets = []

    # 遍历所有的频繁集
    #补充自己的代码

    return candidate_itemsets





k = 1 
minsup = 2/9   #最小支持度阈值

#生成长度为1的候选集
candidates = generate_candidates_length_1(dataset)
candidates.sort()
print(f"Candidate itemsets of length {k}: {candidates}")

# 不断执行直到无法生成新的频繁项集
while True:

    #使用阈值minsup对候选项集进行筛选
    frequent_itemsets, support_data = generate_frequent_itemsets(candidates, dataset, minsup)
    frequent_itemsets.sort()
    print(f"Frequent itemsets of length {k}: {frequent_itemsets}")
    for itemset in frequent_itemsets:
        print(f"Itemset: {itemset}, Support: {support_data[tuple(itemset)]}")
    
    #如果频繁集为空，终止循环
    if len(frequent_itemsets) == 0:
        break
    
    k += 1
    
    #从长度为k的频繁集生成长度为k+1的候选集
    candidates = generate_candidate_itemsets(frequent_itemsets)
    candidates.sort()
    print(f"Candidate itemsets of length {k}: {candidates}")




