version https://git-lfs.github.com/spec/v1
oid sha256:398d492d5e78ac9839c133bc966489617aca800c512a8b2ddf2a3e5c29e05241
size 108433
