{
 "cells": [
  {
   "cell_type": "markdown",
   "metadata": {},
   "source": [
    "# <center>2.5 Matplotlib数据可视化</center>"
   ]
  },
  {
   "cell_type": "markdown",
   "metadata": {},
   "source": [
    "在此节中，我们将简要地对Matplotlib的概况进行介绍。并介绍如何利用Matplotlib实现基本的数据可视化需求"
   ]
  },
  {
   "cell_type": "markdown",
   "metadata": {},
   "source": [
    "2.5.2节中以绘制折线图为例，介绍Matplotlib绘图的基本操作，以及图形中各组成部分：图中的线性属性、标题、坐标轴、图例、图中文字的设置方法；\n",
    "\n",
    "2.5.3节中介绍Matplotlib绘制除折线图外，常用到的直方图、散点图、柱状图和饼图的绘制方法；\n",
    "\n",
    "更高级的Matplotlib的数据可视化方法本书未有涉及。而一些数据可视化的分析方法则在第5章中会有介绍"
   ]
  },
  {
   "cell_type": "markdown",
   "metadata": {},
   "source": [
    "### 2.5.1 Matplotlib简介"
   ]
  },
  {
   "cell_type": "markdown",
   "metadata": {},
   "source": [
    "MATLAB是数据绘图领域广泛使用的语言和工具。通过Matplotlib，几行代码便可以绘制出直方图、条形图、折线图、散点图等。为方便MATLAB用户过渡到Matplotlib包，Matplotlib提供了一套完全仿照MATLAB的函数形式的绘图接口，这套绘图接口在matplotlib.pyplot模块中。"
   ]
  },
  {
   "cell_type": "markdown",
   "metadata": {},
   "source": [
    "调用时使用import命令，为了减少后续重复输入，一般用as将matplotlib.pyplot简略为plt"
   ]
  },
  {
   "cell_type": "code",
   "execution_count": null,
   "metadata": {
    "tags": []
   },
   "outputs": [],
   "source": [
    "import matplotlib.pyplot as plt"
   ]
  },
  {
   "cell_type": "markdown",
   "metadata": {},
   "source": [
    "## 2.5.2 Matplotlib绘图基础简介"
   ]
  },
  {
   "cell_type": "markdown",
   "metadata": {},
   "source": [
    "### 1. 绘制基础折线图"
   ]
  },
  {
   "cell_type": "markdown",
   "metadata": {},
   "source": [
    "我们从绘制最基础的折线图开始。绘制(0,0),(1,1),(2,4),(4,2)四个点连成的折线图，构建两个列表x[0,1,2,3]和y[0,1,1,3]代表横纵坐标的x轴与y轴。用plt.plot(x,y)绘制折线，plt.show()显示图像"
   ]
  },
  {
   "cell_type": "code",
   "execution_count": null,
   "metadata": {
    "tags": []
   },
   "outputs": [],
   "source": [
    "import matplotlib.pyplot as plt\n",
    "x=[0,1,2,4]\n",
    "y=[0,1,4,2]\n",
    "plt.plot(x,y)\n",
    "plt.show()"
   ]
  },
  {
   "cell_type": "markdown",
   "metadata": {},
   "source": [
    "注意：如果只输入一维数据则默认为y轴"
   ]
  },
  {
   "cell_type": "markdown",
   "metadata": {},
   "source": [
    "### 2. 修改线条属性"
   ]
  },
  {
   "cell_type": "markdown",
   "metadata": {},
   "source": [
    "对线条的颜色、形状和宽度进行修改，修改线条属性的操作方法主要是在plt.plot函数中设置相应的颜色、线条宽度参数值"
   ]
  },
  {
   "cell_type": "code",
   "execution_count": null,
   "metadata": {
    "tags": []
   },
   "outputs": [],
   "source": [
    "import matplotlib.pyplot as plt\n",
    "import numpy as np\n",
    "x=[0,1,2,4]\n",
    "y=[0,1,4,2]\n",
    "plt.plot(x,y,'g--',linewidth='4.0')#例如将上图的折线修改为绿色虚线，宽度设置为4\n",
    "plt.show()"
   ]
  },
  {
   "cell_type": "markdown",
   "metadata": {},
   "source": [
    "### 3. 同时绘制多条曲线"
   ]
  },
  {
   "cell_type": "markdown",
   "metadata": {},
   "source": [
    "Matplotlib还可以实现同时在一张图中绘制多条曲线的功能，我们在上图中再添加一条标准三角函数曲线，并通过plt.grid给图片背景加上网格。首先通过Numpy 的arrange()函数生成一组数作为plt.plot函数的x轴数据，然后通过Numpy 的sin()函数在x轴数据上计算得到plt.plot函数的y轴数据，再通过plt.axis调整坐标轴刻度以完整显示标准三角函数曲线。"
   ]
  },
  {
   "cell_type": "code",
   "execution_count": null,
   "metadata": {
    "tags": []
   },
   "outputs": [],
   "source": [
    "import matplotlib.pyplot as plt\n",
    "import numpy as np\n",
    "x=[0,1,2,4]\n",
    "y=[0,1,4,2]\n",
    "a=np.arange(0,6,0.01)\n",
    "plt.plot(x,y,'g--',linewidth='4.0')\n",
    "plt.plot(a,np.sin(a))\n",
    "plt.axis([0,6,-4,4])\n",
    "plt.grid(True)\n",
    "plt.show()"
   ]
  },
  {
   "cell_type": "markdown",
   "metadata": {},
   "source": [
    "### 4. 完善折线图内容"
   ]
  },
  {
   "cell_type": "markdown",
   "metadata": {},
   "source": [
    "进一步可以给图形加上标题(plt.title)、轴标签(plt.label)、图内文字(plt.text)和图例(plt.legend)等来完善绘制的图形"
   ]
  },
  {
   "cell_type": "code",
   "execution_count": null,
   "metadata": {
    "tags": []
   },
   "outputs": [],
   "source": [
    "import matplotlib.pyplot as plt\n",
    "import numpy as np\n",
    "x=[0,1,2,4]\n",
    "y=[0,1,4,2]\n",
    "a=np.arange(0,6,0.01)\n",
    "#plt.legend()方法会根据已知曲线的属性自动绘制图例\n",
    "#因此要事先指定曲线的label属性\n",
    "plt.plot(x,y,'g--',linewidth='4.0',label='line A')\n",
    "plt.plot(a,np.sin(a),label='line B')\n",
    "plt.axis([0,6,-4,4])\n",
    "plt.grid(True)\n",
    "plt.xlabel('X axis')\n",
    "plt.ylabel('Y axis')\n",
    "plt.title('Figure1')\n",
    "plt.text(3,-1,'Example')\n",
    "plt.legend(loc='upper right')\n",
    "plt.show()\n"
   ]
  },
  {
   "cell_type": "markdown",
   "metadata": {},
   "source": [
    "注意：对text(),xlabel(),ylabel(),title(),annotate()等可使用参数来设置其文本属性"
   ]
  },
  {
   "cell_type": "markdown",
   "metadata": {},
   "source": [
    "### 5. 显示多个图表"
   ]
  },
  {
   "cell_type": "markdown",
   "metadata": {},
   "source": [
    "可以同时显示多个图表，需要用到 plt.subplot()函数创建多张子图"
   ]
  },
  {
   "cell_type": "code",
   "execution_count": null,
   "metadata": {
    "tags": []
   },
   "outputs": [],
   "source": [
    "import matplotlib.pyplot as plt\n",
    "import numpy as np\n",
    "x=[0,1,2,4]\n",
    "y=[0,1,4,2]\n",
    "a=np.arange(0,6,0.01)\n",
    "plt.subplot(211)       #创建2x1张图中的第1张子图\n",
    "plt.plot(x,y)\n",
    "plt.subplot(212)       #创建2x1张图中的第2张子图\n",
    "plt.plot(a,np.sin(a))\n",
    "plt.suptitle('Two Figures')\n",
    "plt.show()"
   ]
  },
  {
   "cell_type": "markdown",
   "metadata": {},
   "source": [
    "注意：该函数的3位数的参数值要分成3个数字来看，即几行几列第几个子图；另外还要注意图表总标题的函数为plt.suptitle()"
   ]
  },
  {
   "cell_type": "markdown",
   "metadata": {},
   "source": [
    "### 6. 正常显示中文"
   ]
  },
  {
   "cell_type": "markdown",
   "metadata": {},
   "source": [
    "在Matplotlib中如果对文本属性不进行任何设置会导致输入中文时出现方块乱码，我们可以通过在fontname属性中修改为中文字体解决这一问题"
   ]
  },
  {
   "cell_type": "code",
   "execution_count": null,
   "metadata": {
    "tags": []
   },
   "outputs": [],
   "source": [
    "plt.title('中文文本',fontname='SimHei',size=20)"
   ]
  },
  {
   "cell_type": "markdown",
   "metadata": {},
   "source": [
    "## 2.5.3 常用统计图绘制简介\n",
    "在常见的数据分析任务中，除了折线图之外，还经常用到直方图、散点图、柱状图和饼图，本节将重点介绍这几种图形的使用方法"
   ]
  },
  {
   "cell_type": "markdown",
   "metadata": {},
   "source": [
    "### 1. 直方图\n",
    "通过plt.hist()函数来绘制直方图"
   ]
  },
  {
   "cell_type": "code",
   "execution_count": null,
   "metadata": {
    "tags": []
   },
   "outputs": [],
   "source": [
    "import matplotlib.pyplot as plt\n",
    "import numpy as np\n",
    "data = np.random.randn(10000)  \n",
    "plt.hist(data,bins=40,density=0,facecolor='green',edgecolor='white',alpha=0.7)\n",
    "plt.xlabel('区间',fontname='SimHei',size=15)\n",
    "plt.xlabel('频数',fontname='SimHei',size=15)\n",
    "plt.title('正态分布直方图',fontname='SimHei',size=15)\n",
    "plt.show()"
   ]
  },
  {
   "cell_type": "markdown",
   "metadata": {},
   "source": [
    "### 2. 柱状图\n",
    "柱状图分为垂直柱状图plt.bar(name,values)和水平柱状图plt.barh(name,values)"
   ]
  },
  {
   "cell_type": "code",
   "execution_count": null,
   "metadata": {
    "tags": []
   },
   "outputs": [],
   "source": [
    "import matplotlib.pyplot as plt\n",
    "import numpy as np\n",
    "x=np.random.randint(1,10,4)\n",
    "label=list('abcd')       #创建柱的索引\n",
    "plt.subplot(211)\n",
    "plt.bar(label,x)\n",
    "plt.subplot(212)\n",
    "plt.barh(label,x)\n",
    "plt.show()"
   ]
  },
  {
   "cell_type": "markdown",
   "metadata": {},
   "source": [
    "注意：要先创建柱状图的索引"
   ]
  },
  {
   "cell_type": "markdown",
   "metadata": {},
   "source": [
    "### 3. 散点图\n",
    "通过函数plt.scatter()来绘制散点图"
   ]
  },
  {
   "cell_type": "markdown",
   "metadata": {},
   "source": [
    "以生成正态分布散点图为例，用np.random.normal函数生成正态分布随机数"
   ]
  },
  {
   "cell_type": "code",
   "execution_count": null,
   "metadata": {
    "tags": []
   },
   "outputs": [],
   "source": [
    "import matplotlib.pyplot as plt\n",
    "import numpy as np\n",
    "#用random.normal函数生成1000个点的正态分布x坐标\n",
    "x=np.random.normal(0,1,1000)\n",
    "#生成1000个点的y坐标\n",
    "y=np.random.normal(0,1,1000)\n",
    "plt.scatter(x,y,alpha=0.5)\n",
    "plt.grid(True)\n",
    "plt.show()"
   ]
  },
  {
   "cell_type": "markdown",
   "metadata": {},
   "source": [
    "### 4. 饼图\n",
    "通过函数plt.pie()绘制散点图"
   ]
  },
  {
   "cell_type": "code",
   "execution_count": null,
   "metadata": {
    "tags": []
   },
   "outputs": [],
   "source": [
    "import matplotlib.pyplot as plt\n",
    "import matplotlib\n",
    "list = ['Part1','Part2','Part3']\n",
    "size = [50,40,10]\n",
    "color = ['yellow','red','blue']\n",
    "explode = [0.05,0,0]\n",
    "plt.pie(size,explode=explode,colors=color,labels=list,\n",
    "        labeldistance=1,autopct='%1.1f%%')\n",
    "plt.axis('equal')      #设置横轴和纵轴大小相等，使饼图为正圆\n",
    "plt.legend()\n",
    "plt.show()"
   ]
  },
  {
   "cell_type": "markdown",
   "metadata": {},
   "source": [
    "本章介绍了利用Python进行数据分析最常用的三个基础包：Numpy，Pandas和Matplotlib。\n",
    "\n",
    "Numpy通过 ndarray数组的创建和一系列操作方便对数据进行处理和科学计算。\n",
    "\n",
    "Pandas中需要理解Series与DataFrame数据结构，并通过学习掌握数据的初步分析和处理基础。\n",
    "\n",
    "Matplotlib提供了强大的绘图功能，通过学习本章的绘图基础并结合官方说明文档学习，可以让使用者应对绝大部分数据可视化的工作需求。\n"
   ]
  },
  {
   "cell_type": "code",
   "execution_count": null,
   "metadata": {},
   "outputs": [],
   "source": []
  }
 ],
 "metadata": {
  "kernelspec": {
   "display_name": "Python 3 (ipykernel)",
   "language": "python",
   "name": "python3"
  },
  "language_info": {
   "codemirror_mode": {
    "name": "ipython",
    "version": 3
   },
   "file_extension": ".py",
   "mimetype": "text/x-python",
   "name": "python",
   "nbconvert_exporter": "python",
   "pygments_lexer": "ipython3",
   "version": "3.11.3"
  },
  "toc": {
   "base_numbering": 1,
   "nav_menu": {},
   "number_sections": false,
   "sideBar": true,
   "skip_h1_title": false,
   "title_cell": "Table of Contents",
   "title_sidebar": "Contents",
   "toc_cell": false,
   "toc_position": {
    "height": "calc(100% - 180px)",
    "left": "10px",
    "top": "150px",
    "width": "190.4px"
   },
   "toc_section_display": true,
   "toc_window_display": false
  }
 },
 "nbformat": 4,
 "nbformat_minor": 4
}
