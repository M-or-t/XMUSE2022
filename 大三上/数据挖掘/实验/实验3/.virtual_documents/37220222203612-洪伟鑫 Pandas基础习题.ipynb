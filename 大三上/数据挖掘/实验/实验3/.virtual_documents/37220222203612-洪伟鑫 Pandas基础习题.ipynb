


import pandas as pd





#your code
chipo = pd.read_csv('data/chipotle.tsv',sep='\t')
chipo.head(20)






#全部的列名称
#your code
print(chipo.columns)



#数据集的索引
#your code
print(chipo.index)






#your code
items = chipo.groupby(by=['item_name']).count().sort_values('order_id',ascending = False)
items['order_id'].nlargest(5)






#your code
total = chipo['order_id'].nunique()
print(total)






#your code
df['price'] = chipo['item_price'].str.replace('$','').astype(float)
chipo = chipo.drop('item_price',axis=1)
chipo['price'] = df['price']
chipo






#your code
df['price'] = chipo['item_price'].str.replace('$','').astype(float)
res = (df['price']*chipo['quantity']).sum()
print(res)





#your code
df['price'] = chipo['item_price'].str.replace('$','').astype(float)
w = (df['price']*chipo['quantity']).sum()
orders = chipo['order_id'].nunique()
res = w/orders
print(f"{res:.2f}")





#your code
ans = chipo['item_name'].nunique()
print(ans)






#your code
item = chipo[['quantity','item_name','price']]
item.head(5)






#your code
item.sort_values(['price','item_name']).head(30)







#your code
ans = chipo[chipo['price']>25]
ans





#your code
house58 = pd.read_excel('./data/58.xlsx')
house58






#your code
ht = house58['housetype'].value_counts().sort_values(ascending=False)
ht.name = 'housetype'
ht.index.name = None 
ht






#your code
bins = [0,50,70,90,99999999]
labels = ['0-50','51-70','71-90','>90']
house58['housecnt'] = pd.cut(house58['housearea'],bins=bins,labels=labels,right = False)     
Result = house58.groupby(by=['housecnt'], observed=True)['housearea'].agg(['count'])
Result.index.name=None
print(Result)







import matplotlib.pyplot as plt
labels = ['0-50', '51-70', '71-90', '>90']
sizes = [10, 30, 45, 15]
explode = [0.00, 0, 0, 0]  
plt.pie(sizes, explode=explode, labels=labels,
        labeldistance=1.1, autopct='%1.1f%%')
plt.title('房屋面积分布', fontname='SimHei',fontsize = 20)
plt.show()





#your code

import matplotlib.pyplot as plt
import numpy as np
from pylab import mpl
# 设置显示中文字体
mpl.rcParams["font.sans-serif"] = ["SimHei"]
x = ht.values
label = ht.index  

plt.subplot(121)
plt.barh(label, x)
plt.xlabel('数量')
plt.title('水平柱状图')

plt.subplot(122)
plt.bar(label, x)
plt.ylabel('数量')
plt.title('垂直柱状图')

plt.show()




