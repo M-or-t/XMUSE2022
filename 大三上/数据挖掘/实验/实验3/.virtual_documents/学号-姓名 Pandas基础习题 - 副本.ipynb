


import pandas as pd





#your code







#全部的列名称
#your code




#数据集的索引
#your code







#your code







#your code







#your code







#your code








#your code







#your code







#your code







#your code







#your code








#your code







#your code







#your code








#your code








#your code






