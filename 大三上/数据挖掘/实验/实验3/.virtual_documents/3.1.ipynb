


























import pandas as pd
data= pd.read_csv('./data/Operator.csv')
data.head()














#通过性别分组，对比不同性别入网月份数均值
gm = data.groupby(by=['gender'])['month'].agg('mean')
gm












gm = data.groupby(by=['gender'])['ID'].agg('count')
gm/gm.sum()












bins = [0,20,30,40,100]                                                  #设置入网月份数分段值
monthLabels = ['20个月以下','21个月到30个月','31个月到40个月','41个月以上'] #设置入网月份数分段标签
data['入网月份数分层'] = pd.cut(data.month,bins,labels=monthLabels)       #生成入网月份数分段列
monthResult = data.groupby(by=['入网月份数分层'])['ID'].agg('count')
monthResult





monthResult.sum()                                                        #对每个入网月份数分层的用户求和
monthResult/monthResult.sum()                                            #计算各入网月份数分层用户比例
pMonthResult = round(monthResult/monthResult.sum(),4)*100
pMonthResult.map('{:,.2f}%'.format)









bins = [0,20,30,40,100]
monthLabels = ['20个月以下','21个月到30个月','31个月到40个月','41个月以上']
data['入网月份数分层'] = pd.cut(
    data.month,
    bins,
    labels=monthLabels
)      #进行交叉统计，行为入网月份数分层，列为性别，对用户ID进行计数统计
ptResults = data.pivot_table(
    values='ID',
    index='入网月份数分层',
    columns='gender',
    aggfunc='count'
)
ptResults






