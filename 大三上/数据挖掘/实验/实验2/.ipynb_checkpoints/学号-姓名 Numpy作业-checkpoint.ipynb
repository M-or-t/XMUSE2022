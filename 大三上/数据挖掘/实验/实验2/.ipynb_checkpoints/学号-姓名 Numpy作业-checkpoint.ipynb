version https://git-lfs.github.com/spec/v1
oid sha256:cc12825af0646ea3c75ec64b02ff91f980f1d4a395b653bc8d8571c1d78bbb2f
size 14845
