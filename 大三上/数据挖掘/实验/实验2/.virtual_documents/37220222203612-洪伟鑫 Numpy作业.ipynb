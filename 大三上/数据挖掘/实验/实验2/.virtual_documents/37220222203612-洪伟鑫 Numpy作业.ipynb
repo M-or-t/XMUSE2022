


import numpy as np





# Q.创建一个3×3的所有值为True的numpy数组
# A:
out = np.ones((3,3),dtype = bool)
out   #运行之后可以直接看到结果








# A1:
a1 = np.arange(10)
print(a1)
a1 = a1.reshape(2,-1)
print(a1)





# A2:
np.random.seed(2)
a = np.random.rand(10,10)
print(a)
print(np.amax(a))
print(np.amin(a))
print(np.mean(a))





#A3：
np.random.seed(3)
a = np.random.rand(5,5)
print(a)
a = (a-a.mean())/a.std()
print(a)





# A4：
a1 = np.arange(10)
print(a1)
a2 = np.array([1,5,7,4,3])
print(a2)
a = []
for i in a1:
    if i not in a2:
        a.append(int(i))
print(a)





# A5：
a3 = np.arange(20).reshape(4,-1)
print(a3)
a3[[0,2]] = a3[[2,0]]
print(a3)
a3[:,[1,-1]] = a3[:,[-1,1]]
print(a3)





# A6：
a3 = np.arange(20).reshape(4,-1)
print(a3)
a3 = a3[:,::-1]
print(a3)
a3 = a3[::-1]
print(a3)





# A7：
b1 = np.arange(10).reshape(2,-1)
print(b1)
b1 = np.pad(b1,pad_width=1,mode='constant',constant_values=0)
print(b1)





# A8：
a = np.zeros((5,5),dtype = int)
val = np.array([1,2,3,4])
a[np.arange(4),np.arange(1,5)] = val
print(a)





# A9:
a3 = np.arange(20).reshape(4,-1)
print(a3)
a = a3[(a3>=7)&(a3<=16)]
print(a)





#A10：
np.random.seed(4)
a = np.random.uniform(10,20,(4,6))
a = np.random.uniform(10,20,(4,6))
a = a.round(3)
print(a)





# A11：
np.random.seed(5)
a4 = np.random.uniform(10,20,50)
print(a4)
res = []
a4_top5 = np.sort(a4)[-5:][::-1]
for num in a4_top5:
    res.append(num)
print(res)





# A12:
b4 = np.array([1,2,3,4])
b5 = np.array([5,6,7,8])
print(b4)
print(b5)
ans = (sum((b4 - b5) ** 2))**0.5
print(ans)





# A13：
np.random.seed(6)
a5 = np.random.randint(0,5,10)
print(a5)
exist = {}
ans = []
for num in a5:
    if num not in exist:
        exist[num] = True
        ans.append(False)
    else:
        ans.append(True)
print(ans)





A = np.array([[1,2,3],[-1,-3,-9],[2,2,8]])
B = np.array([12,15,8])
# A14：
halfB = B / 2
x = np.linalg.solve(A, halfB)
print(x)





# A15:
np.random.seed(8)
a7 = np.random.randint(1,6,size = 6)
print(a7)
sorted_a7 = np.argsort(a7, kind='stable')
ranks = np.empty_like(sorted_a7)
for rank, index in enumerate(sorted_a7):
    ranks[index] = rank
ans = []
for i in range(len(a7)):
    ans.append(int(ranks[i]))
print(ans)





Z = np.random.randint(0,3,(3,10))


Z


print((~Z.any(axis=0)).any())


# A16：
首先Z.any(axis=0)会逐列检查是否有非0元素，如果有则返回True，否则返回False，这样得到的是一个长度为10的布尔数组，然后取反，再用一次any函数，
这样得到的是一个布尔元素，其含义是整个数组中是否有全零列
