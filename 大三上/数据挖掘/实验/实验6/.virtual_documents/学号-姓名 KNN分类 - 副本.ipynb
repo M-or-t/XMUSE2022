version https://git-lfs.github.com/spec/v1
oid sha256:9711bcfe26cdaa7f68dd8f72980a1bba22d47d98dc2028b8c656ec29a0cc34f6
size 4797
