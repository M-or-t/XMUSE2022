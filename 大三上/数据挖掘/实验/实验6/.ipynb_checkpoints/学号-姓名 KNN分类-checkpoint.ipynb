version https://git-lfs.github.com/spec/v1
oid sha256:b19441d7ab05579dad1f4ce5773923b3976440dfd4a4ed816d7adc454bb7036e
size 84244
